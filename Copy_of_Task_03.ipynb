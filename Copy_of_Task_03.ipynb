{
  "cells": [
    {
      "cell_type": "markdown",
      "metadata": {
        "id": "view-in-github",
        "colab_type": "text"
      },
      "source": [
        "<a href=\"https://colab.research.google.com/github/OMKARTT/DeepLearningImages/blob/main/Copy_of_Task_03.ipynb\" target=\"_parent\"><img src=\"https://colab.research.google.com/assets/colab-badge.svg\" alt=\"Open In Colab\"/></a>"
      ]
    },
    {
      "cell_type": "markdown",
      "metadata": {
        "id": "Sd0950ag4NNZ"
      },
      "source": [
        "### Task 03:\n",
        "\n",
        "In this task, you have to implement the Backpropagation method using Pytorch. This is particularly useful when the hypothesis function contains several weights.\n",
        "\n",
        "**Backpropagation**: Algorithm to caculate gradient for all the weights in the network with several weights. \n",
        "\n",
        "* It uses the `Chain Rule` to calcuate the gradient for multiple nodes at the same time. \n",
        "* In pytorch this is implemented using a `variable` data type and `loss.backward()` method to get the gradients"
      ]
    },
    {
      "cell_type": "code",
      "execution_count": null,
      "metadata": {
        "id": "2w0MM9204NNh"
      },
      "outputs": [],
      "source": [
        "# import the necessary libraries\n",
        "import torch\n",
        "import numpy as np\n",
        "import matplotlib.pyplot as plt\n",
        "import pandas as pd"
      ]
    },
    {
      "cell_type": "markdown",
      "metadata": {
        "id": "st0vmvel4NNn"
      },
      "source": [
        "## Preliminaries - Pytorch Basics"
      ]
    },
    {
      "cell_type": "code",
      "execution_count": null,
      "metadata": {
        "colab": {
          "base_uri": "https://localhost:8080/"
        },
        "id": "3BUgr0pR4NNq",
        "outputId": "42ca678a-af39-4fce-b225-641031fda13c"
      },
      "outputs": [
        {
          "output_type": "stream",
          "name": "stdout",
          "text": [
            "tensor([0., 0., 0., 0., 0.])\n",
            "tensor([1., 1., 1., 1., 1.])\n",
            "tensor([-2.0946, -0.9915,  0.1418, -0.5610, -0.7242])\n",
            "The size of the to_tensor:  torch.Size([5])\n",
            "The size of the to_tensor:  torch.Size([5])\n"
          ]
        }
      ],
      "source": [
        "# creating a tensor\n",
        "\n",
        "# zero tensor\n",
        "zeros = torch.zeros(5)\n",
        "print(zeros)\n",
        "# ones\n",
        "ones = torch.ones(5)\n",
        "print(ones)\n",
        "# random normal\n",
        "random = torch.randn(5)\n",
        "print(random)\n",
        "\n",
        "\n",
        "# creating tensors from list and/or numpy arrays\n",
        "my_list = [0.0, 1.0, 2.0, 3.0, 4.0]\n",
        "to_tensor = torch.Tensor(my_list)\n",
        "print(\"The size of the to_tensor: \", to_tensor.size())\n",
        "\n",
        "my_array = np.array(my_list) # or\n",
        "to_tensor = torch.tensor(my_array)\n",
        "to_tensor = torch.from_numpy(my_array)\n",
        "print(\"The size of the to_tensor: \", to_tensor.size())"
      ]
    },
    {
      "cell_type": "code",
      "source": [
        "type(to_tensor)"
      ],
      "metadata": {
        "colab": {
          "base_uri": "https://localhost:8080/"
        },
        "id": "vXMnYVmypGga",
        "outputId": "6970e12a-5fbe-456e-b48b-ffd4adc47c80"
      },
      "execution_count": null,
      "outputs": [
        {
          "output_type": "execute_result",
          "data": {
            "text/plain": [
              "torch.Tensor"
            ]
          },
          "metadata": {},
          "execution_count": 7
        }
      ]
    },
    {
      "cell_type": "code",
      "execution_count": null,
      "metadata": {
        "colab": {
          "base_uri": "https://localhost:8080/"
        },
        "id": "Js4p4btA4VvG",
        "outputId": "7e7d96f6-4308-499a-d0c4-ac94b233e489"
      },
      "outputs": [
        {
          "output_type": "stream",
          "name": "stdout",
          "text": [
            "tensor([[ 0.6537, -0.7042,  0.9797],\n",
            "        [ 1.8178, -2.0760, -0.7152],\n",
            "        [-1.2221,  0.4611,  0.3189]])\n",
            "tensor([[[-0.1435,  0.3757, -2.2724],\n",
            "         [-1.0421,  0.0659, -0.9382],\n",
            "         [ 0.1961,  0.4217,  0.3726]],\n",
            "\n",
            "        [[-2.1512, -0.2162,  1.1968],\n",
            "         [-0.6359,  0.3017,  0.6338],\n",
            "         [ 0.9777, -2.4478,  0.6590]],\n",
            "\n",
            "        [[-0.5593, -0.2238,  0.6782],\n",
            "         [ 0.9307, -2.1583, -0.9311],\n",
            "         [-1.2095,  0.3169, -0.0143]]])\n"
          ]
        }
      ],
      "source": [
        "# multi dimenstional tensors\n",
        "\n",
        "# 2D\n",
        "two_dim = torch.randn((3, 3))\n",
        "print(two_dim)\n",
        "# 3D \n",
        "three_dim = torch.randn((3, 3, 3))\n",
        "print(three_dim)"
      ]
    },
    {
      "cell_type": "code",
      "execution_count": null,
      "metadata": {
        "colab": {
          "base_uri": "https://localhost:8080/"
        },
        "id": "lRA0Icia4ani",
        "outputId": "3583dad5-54d0-447f-807e-31a89f80c570"
      },
      "outputs": [
        {
          "output_type": "stream",
          "name": "stdout",
          "text": [
            "torch.Size([5])\n",
            "torch.Size([3, 3])\n",
            "torch.Size([3, 3, 3])\n",
            "tensor([ 0.6537,  1.8178, -1.2221])\n",
            "tensor([ 0.6537, -0.7042,  0.9797])\n"
          ]
        }
      ],
      "source": [
        "# tensor shapes and axes\n",
        "\n",
        "print(zeros.shape)\n",
        "print(two_dim.shape)\n",
        "print(three_dim.shape)\n",
        "\n",
        "# zeroth axis - rows\n",
        "print(two_dim[:, 0])\n",
        "# first axis - columns\n",
        "print(two_dim[0, :])"
      ]
    },
    {
      "cell_type": "code",
      "execution_count": null,
      "metadata": {
        "colab": {
          "base_uri": "https://localhost:8080/"
        },
        "id": "4CFwt4R_4iEq",
        "outputId": "fe0828c3-4ed1-4e22-97fa-61c6608ea9af"
      },
      "outputs": [
        {
          "output_type": "stream",
          "name": "stdout",
          "text": [
            "tensor([[ 0.6537, -0.7042],\n",
            "        [ 1.8178, -2.0760],\n",
            "        [-1.2221,  0.4611]])\n",
            "tensor([[ 0.6537, -0.7042,  0.9797],\n",
            "        [ 1.8178, -2.0760, -0.7152]])\n"
          ]
        }
      ],
      "source": [
        "print(two_dim[:, 0:2])\n",
        "print(two_dim[0:2, :])"
      ]
    },
    {
      "cell_type": "code",
      "execution_count": null,
      "metadata": {
        "colab": {
          "base_uri": "https://localhost:8080/"
        },
        "id": "mJA1f5_F5Acn",
        "outputId": "98837e80-1270-4267-b027-2ca259a34dcb"
      },
      "outputs": [
        {
          "output_type": "stream",
          "name": "stdout",
          "text": [
            "Tensor Shape :  torch.Size([2, 3])\n",
            "Resized Tensor Shape :  torch.Size([3, 2])\n",
            "Resized Tensor Shape :  torch.Size([3, 2])\n",
            "Flattened Tensor Shape :  torch.Size([6])\n"
          ]
        }
      ],
      "source": [
        "rand_tensor = torch.randn(2,3)\n",
        "print(\"Tensor Shape : \" , rand_tensor.shape)\n",
        "resized_tensor = rand_tensor.reshape(3,2)\n",
        "print(\"Resized Tensor Shape : \" , resized_tensor.shape) # or\n",
        "resized_tensor = rand_tensor.reshape(3,-1)\n",
        "print(\"Resized Tensor Shape : \" , resized_tensor.shape)\n",
        "flattened_tensor = rand_tensor.reshape(-1)\n",
        "print(\"Flattened Tensor Shape : \" , flattened_tensor.shape)"
      ]
    },
    {
      "cell_type": "markdown",
      "metadata": {
        "id": "_ismMPyM4NNw"
      },
      "source": [
        "Determine the derivative of $y = 2x^{3} + x$ at $x = 1$"
      ]
    },
    {
      "cell_type": "code",
      "execution_count": null,
      "metadata": {
        "colab": {
          "base_uri": "https://localhost:8080/"
        },
        "id": "Ic-ZkAPC4NNx",
        "outputId": "6d0d9ad5-499f-4442-dccc-8f2e45288cf8"
      },
      "outputs": [
        {
          "output_type": "stream",
          "name": "stdout",
          "text": [
            "Value of Y at x=1 :  tensor(18., grad_fn=<AddBackward0>)\n",
            "Derivative of Y wrt x at x=1 :  tensor(25.)\n"
          ]
        }
      ],
      "source": [
        "x = torch.tensor(2.0, requires_grad = True)\n",
        "y = 2 * (x ** 3) + x\n",
        "y.backward()\n",
        "print(\"Value of Y at x=1 : \" , y)\n",
        "print(\"Derivative of Y wrt x at x=1 : \" , x.grad)"
      ]
    },
    {
      "cell_type": "markdown",
      "metadata": {
        "id": "gp-J-JDA4NNy"
      },
      "source": [
        "### Task 03 - a\n",
        "Determine the partial derivative of $y = uv + u^{2}$ at $u=1$ and $v=2$ with respect to $u$ and $v$."
      ]
    },
    {
      "cell_type": "code",
      "execution_count": null,
      "metadata": {
        "id": "N7ShF6wf4NNz",
        "colab": {
          "base_uri": "https://localhost:8080/"
        },
        "outputId": "db9e2384-7ecf-440c-d2cc-ed7b4f6ba54f"
      },
      "outputs": [
        {
          "output_type": "stream",
          "name": "stdout",
          "text": [
            "Value of y at u=1, v=2 :  tensor(3., grad_fn=<AddBackward0>)\n",
            "Partial Derivative of y wrt u :  tensor(4.)\n",
            "Partial Derivative of y wrt v :  tensor(1.)\n"
          ]
        }
      ],
      "source": [
        "# YOUR CODE STARTS HERE\n",
        "u = torch.tensor(1.0,requires_grad=True)\n",
        "v = torch.tensor(2.0,requires_grad=True)\n",
        "y =u*v+u**2\n",
        "y.backward()\n",
        "# YOUR CODE ends HERE\n",
        "print(\"Value of y at u=1, v=2 : \" , y)\n",
        "print(\"Partial Derivative of y wrt u : \" , u.grad)\n",
        "print(\"Partial Derivative of y wrt v : \" , v.grad)"
      ]
    },
    {
      "cell_type": "markdown",
      "metadata": {
        "id": "29jvHyKE4NN0"
      },
      "source": [
        "#### Hypothesis Function and Loss Function\n",
        "\n",
        "$y = x * w + b$\n",
        "\n",
        "$loss =(\\hat{y}-y)^2$"
      ]
    },
    {
      "cell_type": "markdown",
      "metadata": {
        "id": "t7dU0O9E4NN0"
      },
      "source": [
        "Let us make use of a randomly-created sample dataset as follows"
      ]
    },
    {
      "cell_type": "code",
      "execution_count": null,
      "metadata": {
        "id": "6tUXuGub4NN1"
      },
      "outputs": [],
      "source": [
        "#sample-dataset\n",
        "x_data = [1.0, 2.0, 3.0]\n",
        "y_data = [2.0, 4.0, 6.0]"
      ]
    },
    {
      "cell_type": "markdown",
      "metadata": {
        "id": "BI84dQfW4NN1"
      },
      "source": [
        "## Task: 03 - b\n",
        "Declare pytorch tensors for weight and bias and implement the forward and loss function of our model"
      ]
    },
    {
      "cell_type": "code",
      "execution_count": null,
      "metadata": {
        "id": "ZQaYqClT4NN1"
      },
      "outputs": [],
      "source": [
        "# Define w = 1 and b = -1 for y = wx + b\n",
        "# Note that w,b are learnable paramteter \n",
        "# i.e., you are going to take the derivative of the tensor(s).\n",
        "# YOUR CODE STARTS HERE\n",
        "w = \n",
        "b = \n",
        "# YOUR CODE ENDS HERE\n",
        "\n",
        "assert w.item() == 1\n",
        "assert b.item() == -1\n",
        "assert w.requires_grad == True\n",
        "assert b.requires_grad == True"
      ]
    },
    {
      "cell_type": "code",
      "execution_count": null,
      "metadata": {
        "id": "zRVK-4tr4NN3"
      },
      "outputs": [],
      "source": [
        "#forward function to calculate y_pred for a given x according to the linear model defined above\n",
        "def forward(x):\n",
        "    #implement the forward model to compute y_pred as w*x + b\n",
        "    ## YOUR CODE STARTS HERE\n",
        "\n",
        "\n",
        "    ## YOUR CODE ENDS HERE\n",
        "\n",
        "#loss-function to compute the mean-squared error between y_pred and y_actual\n",
        "def loss(y_pred, y_actual):\n",
        "    #calculate the mean-squared-error between y_pred and y_actual\n",
        "    ## YOUR CODE STARTS HERE\n",
        "\n",
        "\n",
        "    ## YOUR CODE ENDS HERE"
      ]
    },
    {
      "cell_type": "markdown",
      "metadata": {
        "id": "x3BAF5aQ4NN3"
      },
      "source": [
        "Calculate $y_{pred}$ for $x=4$ without training the model"
      ]
    },
    {
      "cell_type": "code",
      "execution_count": null,
      "metadata": {
        "id": "EPAgSpvE4NN4"
      },
      "outputs": [],
      "source": [
        "y_pred_without_train = forward(4)"
      ]
    },
    {
      "cell_type": "markdown",
      "metadata": {
        "id": "0BO6QOWq4NN4"
      },
      "source": [
        "Begin Training"
      ]
    },
    {
      "cell_type": "code",
      "execution_count": null,
      "metadata": {
        "id": "VUgLcPrG4NN4"
      },
      "outputs": [],
      "source": [
        "# In this method, we learn the dataset multiple times (called epochs)\n",
        "# Each time, the weight (w) gets updates using the graident decent algorithm based on weights of the previous epoch\n",
        "\n",
        "alpha = 0.01 # Let us set learning rate as 0.01\n",
        "weight_list = []\n",
        "loss_list=[]\n",
        "\n",
        "# Training loop\n",
        "for epoch in range(10):\n",
        "    total_loss = 0\n",
        "    count = 0\n",
        "    \n",
        "    for x, y in zip(x_data, y_data):\n",
        "        \n",
        "        #implement forward pass, compute loss and gradients for the weights and update weights\n",
        "        ## YOUR CODE STARTS HERE\n",
        "        \n",
        "        ## YOUR CODE ENDS HERE\n",
        "\n",
        "        # Manually zero the gradients after updating weights\n",
        "        w.grad.data.zero_()\n",
        "        \n",
        "        count += 1\n",
        "        \n",
        "    avg_mse = total_loss / count        \n",
        "    print(f\"Epoch: {epoch+1} | Loss: {avg_mse.item()} | w: {w.item()}\")\n",
        "    weight_list.append(w)\n",
        "    loss_list.append(avg_mse)  "
      ]
    },
    {
      "cell_type": "markdown",
      "metadata": {
        "id": "1vfWzjw14NN5"
      },
      "source": [
        "Calculate $y_{pred}$ for $x=4$ after training the model"
      ]
    },
    {
      "cell_type": "code",
      "execution_count": null,
      "metadata": {
        "id": "KiQzppwU4NN6"
      },
      "outputs": [],
      "source": [
        "y_pred_with_train = forward(4)\n",
        "\n",
        "print(\"Actual Y Value for x=4 : 8\")\n",
        "print(\"Predicted Y Value before training : \" , y_pred_without_train.item())\n",
        "print(\"Predicted Y Value after training : \" , y_pred_with_train.item())"
      ]
    },
    {
      "cell_type": "markdown",
      "metadata": {
        "id": "mfsMg3xe4NN6"
      },
      "source": [
        "## Task: 03 - c\n",
        "Repeat **Task:03 - b** for the quadratic model defined below"
      ]
    },
    {
      "cell_type": "markdown",
      "metadata": {
        "id": "jvN4ZfIt4NN6"
      },
      "source": [
        "#### Using backward propagation for quadratic model\n",
        "\n",
        "$\\hat{y} = x^2*w_{2} + x*w_{1}$\n",
        "\n",
        "$loss = (\\hat{y}-y)^2$\n",
        "\n",
        "* Using Dummy values of x and y\n",
        "\n",
        "`x = 1,2,3,4,5`\n",
        "`y = 1,6,15,28,45`"
      ]
    },
    {
      "cell_type": "code",
      "execution_count": null,
      "metadata": {
        "id": "pKxTLgYc4NN7"
      },
      "outputs": [],
      "source": [
        "x_data = [1.0, 2.0, 3.0, 4.0, 5.0]\n",
        "y_data = [1.0, 6.0, 15.0, 28, 45]"
      ]
    },
    {
      "cell_type": "code",
      "execution_count": null,
      "metadata": {
        "id": "0tvvovED4NN7"
      },
      "outputs": [],
      "source": [
        "# Visualize the given dataset\n",
        "plt.plot(x_data,y_data)\n",
        "plt.show()"
      ]
    },
    {
      "cell_type": "code",
      "execution_count": null,
      "metadata": {
        "id": "nodeeWDX4NN7"
      },
      "outputs": [],
      "source": [
        "# Initialize w2 and w1 with randon values\n",
        "w_1 = torch.tensor([1.0], requires_grad=True)\n",
        "w_2 = torch.tensor([1.0], requires_grad=True)"
      ]
    },
    {
      "cell_type": "code",
      "execution_count": null,
      "metadata": {
        "id": "4DZxKgss4NN7"
      },
      "outputs": [],
      "source": [
        "#wuadratic-forward function to calculate y_pred for a given x according to the quadratic model defined above\n",
        "def quad_forward(x):\n",
        "    #implement the forward model to compute y_pred as w1*x + w2*(x^2)\n",
        "    ## YOUR CODE STARTS HERE\n",
        "\n",
        "\n",
        "    ## YOUR CODE ENDS HERE\n",
        "\n",
        "#loss-function to compute the mean-squared error between y_pred and y_actual\n",
        "def loss(y_pred, y_actual):\n",
        "    #calculate the mean-squared-error between y_pred and y_actual\n",
        "    ## YOUR CODE STARTS HERE\n",
        "\n",
        "\n",
        "    ## YOUR CODE ENDS HERE"
      ]
    },
    {
      "cell_type": "markdown",
      "metadata": {
        "id": "mKlMp8sW4NN8"
      },
      "source": [
        "Calculate $y_{pred}$ for $x=6$ without training the model"
      ]
    },
    {
      "cell_type": "code",
      "execution_count": null,
      "metadata": {
        "id": "YiVbYy1P4NN8"
      },
      "outputs": [],
      "source": [
        "y_pred_without_train = quad_forward(6)"
      ]
    },
    {
      "cell_type": "markdown",
      "metadata": {
        "id": "NfUGvo2F4NN8"
      },
      "source": [
        "Begin Training"
      ]
    },
    {
      "cell_type": "code",
      "execution_count": null,
      "metadata": {
        "id": "04CX2FJX4NN9"
      },
      "outputs": [],
      "source": [
        "# In this method, we learn the dataset multiple times (called epochs)\n",
        "# Each time, the weight (w) gets updates using the graident decent algorithm based on weights of the previous epoch\n",
        "\n",
        "alpha = 0.0012 # Let us set learning rate as 0.01\n",
        "weight_list = []\n",
        "loss_list=[]\n",
        "\n",
        "# Training loop\n",
        "for epoch in range(100):\n",
        "    total_loss = 0\n",
        "    count = 0\n",
        "    \n",
        "    for x, y in zip(x_data, y_data):\n",
        "        \n",
        "        #implement forward pass, compute loss and gradients for the weights and update weights\n",
        "        ## YOUR CODE STARTS HERE\n",
        "        \n",
        "        ## YOUR CODE ENDS HERE\n",
        "        \n",
        "        # Manually zero the gradients after updating weights\n",
        "        w_1.grad.data.zero_()\n",
        "        w_2.grad.data.zero_()\n",
        "        \n",
        "        count += 1\n",
        "        \n",
        "    avg_mse = total_loss / count        \n",
        "    print(f\"Epoch: {epoch+1} | Loss: {avg_mse.item()} | w: {w.item()}\")\n",
        "    weight_list.append(w)\n",
        "    loss_list.append(avg_mse)"
      ]
    },
    {
      "cell_type": "markdown",
      "metadata": {
        "id": "nCxaFfeb4NN9"
      },
      "source": [
        "Calculate $y_{pred}$ for $x=6$ after training the model"
      ]
    },
    {
      "cell_type": "code",
      "execution_count": null,
      "metadata": {
        "id": "alIVupLO4NN9"
      },
      "outputs": [],
      "source": [
        "y_pred_with_train = forward(6)\n",
        "\n",
        "print(\"Actual Y Value for x=4 : 66\")\n",
        "print(\"Predicted Y Value before training : \" , y_pred_without_train.item())\n",
        "print(\"Predicted Y Value after training : \" , y_pred_with_train.item())"
      ]
    }
  ],
  "metadata": {
    "colab": {
      "name": "Copy of Task-03.ipynb",
      "provenance": [],
      "include_colab_link": true
    },
    "kernelspec": {
      "display_name": "Python 3 (ipykernel)",
      "language": "python",
      "name": "python3"
    },
    "language_info": {
      "codemirror_mode": {
        "name": "ipython",
        "version": 3
      },
      "file_extension": ".py",
      "mimetype": "text/x-python",
      "name": "python",
      "nbconvert_exporter": "python",
      "pygments_lexer": "ipython3",
      "version": "3.8.10"
    }
  },
  "nbformat": 4,
  "nbformat_minor": 0
}